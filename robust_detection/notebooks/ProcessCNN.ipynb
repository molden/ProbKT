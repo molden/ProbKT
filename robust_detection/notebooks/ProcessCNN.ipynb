{
 "cells": [
  {
   "cell_type": "code",
   "execution_count": null,
   "id": "a136021c",
   "metadata": {},
   "outputs": [],
   "source": [
    "import wandb\n",
    "from robust_detection.wandb_config import ENTITY\n",
    "from robust_detection.data_utils.baselines_data_utils import ObjectsCountDataModule\n",
    "from robust_detection.baselines.cnn_model import CNN\n",
    "import pandas as pd\n",
    "import pytorch_lightning as pl\n",
    "import os\n",
    "import torch\n",
    "import numpy as np"
   ]
  },
  {
   "cell_type": "code",
   "execution_count": null,
   "id": "1a82cb5b",
   "metadata": {},
   "outputs": [],
   "source": [
    "gpu = 0\n",
    "api = wandb.Api()\n",
    "\n",
    "results = {}\n",
    "\n",
    "sweep_dict = {\"dub96i86\":CNN}\n",
    "model_names = [\"CNN\"]\n",
    "\n",
    "\n",
    "#data_dict = {\"MMSynthetic\":SyntheticMMDataModule, \"Pendulum\":PendulumDataModule, \"CV\":CVDataModule}\n",
    "data_dict = {\"molecules/molecules_skip\":ObjectsCountDataModule} #, \\\n",
    "            #\"mnist/alldigits_large\":MNISTCountDataModule, \"mnist/alldigits_2_large\":MNISTCountDataModule,  \"mnist/alldigits_5_large\":MNISTCountDataModule,}\n",
    "#data_dict = {\"Pendulum\":PendulumDataModule}\n",
    "\n",
    "fold_name = \"fold\"\n",
    "pre_trained = True"
   ]
  },
  {
   "cell_type": "code",
   "execution_count": null,
   "id": "c8f015ab",
   "metadata": {},
   "outputs": [],
   "source": [
    "df = pd.DataFrame()"
   ]
  },
  {
   "cell_type": "code",
   "execution_count": null,
   "id": "a6278bc5",
   "metadata": {},
   "outputs": [],
   "source": [
    "for i_mod, sweep_name in enumerate(sweep_dict.keys()):\n",
    "    print(sweep_name)\n",
    "    pd_dict_acc = {\"Model\":model_names[i_mod] + \" (Acc)\"}\n",
    "    pd_dict_mse = {\"Model\":model_names[i_mod] + \" (mse)\"}\n",
    "\n",
    "\n",
    "    model_cls = sweep_dict[sweep_name]\n",
    "    sweep = api.sweep(f\"{ENTITY}/object_detection/{sweep_name}\")\n",
    "\n",
    "    for ood in [False,True]:\n",
    "\n",
    "        pd_dict_acc[\"Type\"] = \"OOD\" if ood else \"In-distribution\"\n",
    "        pd_dict_mse[\"Type\"] = \"OOD\" if ood else \"In-distribution\"\n",
    "\n",
    "        \n",
    "        for data_key in data_dict.keys():\n",
    "\n",
    "            best_runs = []\n",
    "            for fold in [0,1,2,3,4]:\n",
    "                #runs_fold = [r for r in sweep.runs if (r.config.get(fold_name)==fold) and (r.config.get(\"data_path\")==data_key)]\n",
    "                runs_fold = [r for r in sweep.runs if (r.config.get(fold_name)==fold) and (r.config.get(\"pre_trained\")==pre_trained)]\n",
    "                runs_fold_sorted = sorted(runs_fold,key = lambda run: run.summary.get(\"restored_val_acc\"), reverse = True)\n",
    "                best_runs.append(runs_fold_sorted[0])\n",
    "\n",
    "            mses = []\n",
    "            accuracies = []\n",
    "            for run in best_runs:\n",
    "                fname = [f.name for f in run.files() if \"ckpt\" in f.name][0]\n",
    "                run.file(fname).download(replace = True, root = \".\")\n",
    "                model = model_cls.load_from_checkpoint(fname)\n",
    "                os.remove(fname)\n",
    "\n",
    "                hparams = dict(model.hparams)\n",
    "                hparams[\"data_dir\"]= data_key\n",
    "                dataset = data_dict[data_key](**hparams)\n",
    "                dataset.prepare_data()\n",
    "                trainer = pl.Trainer(logger = False, gpus = 1)\n",
    "\n",
    "                if ood:\n",
    "                    preds = trainer.predict(model, dataset.test_ood_dataloader())\n",
    "                else:\n",
    "                    preds = trainer.predict(model, dataset.test_dataloader())\n",
    "                Y = torch.cat([pred[\"Y\"] for pred in preds]).cpu()\n",
    "                Y_hat = torch.cat([pred[\"Y_pred\"] for pred in preds]).cpu()\n",
    "                M = torch.cat([pred[\"M\"] for pred in preds]).cpu()\n",
    "\n",
    "                #mse = model.compute_mse(Y_hat,Y,M)\n",
    "                accuracy = model.compute_accuracy(Y,Y_hat,M)\n",
    "                #mses.append(mse)\n",
    "                accuracies.append(accuracy)\n",
    "\n",
    "            #mses = np.array(mses)\n",
    "            #mse_mu = mses.mean()\n",
    "            #mse_std = mses.std()\n",
    "\n",
    "            accuracies = np.array(accuracies)\n",
    "            acc_mu = accuracies.mean()\n",
    "            acc_std = accuracies.std()\n",
    "\n",
    "            #mse_str = \"$ \" + str(mse_mu.round(3))+ \"\\pm\" +str(mse_std.round(3)) +\" $\"\n",
    "            acc_str = \"$ \" + str(acc_mu.round(3))+ \"\\pm\" +str(acc_std.round(3)) +\" $\"\n",
    "\n",
    "            #pd_dict_mse[data_key] = mse_str\n",
    "            pd_dict_acc[data_key] = acc_str\n",
    "\n",
    "        #df = df.append(pd_dict_mse,ignore_index =True)\n",
    "        df = df.append(pd_dict_acc,ignore_index =True)"
   ]
  },
  {
   "cell_type": "code",
   "execution_count": null,
   "id": "09aca2d1",
   "metadata": {},
   "outputs": [],
   "source": [
    "print(df.loc[df.Model.str.contains(\"Acc\")].to_latex(escape = False,index= False))"
   ]
  },
  {
   "cell_type": "code",
   "execution_count": null,
   "id": "0ab0eed2",
   "metadata": {},
   "outputs": [],
   "source": []
  }
 ],
 "metadata": {
  "kernelspec": {
   "display_name": "Python 3 (ipykernel)",
   "language": "python",
   "name": "python3"
  },
  "language_info": {
   "codemirror_mode": {
    "name": "ipython",
    "version": 3
   },
   "file_extension": ".py",
   "mimetype": "text/x-python",
   "name": "python",
   "nbconvert_exporter": "python",
   "pygments_lexer": "ipython3",
   "version": "3.8.12"
  }
 },
 "nbformat": 4,
 "nbformat_minor": 5
}
